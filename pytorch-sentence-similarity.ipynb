{
 "cells": [
  {
   "cell_type": "code",
   "execution_count": 1,
   "metadata": {
    "execution": {
     "iopub.execute_input": "2020-12-13T18:36:58.967142Z",
     "iopub.status.busy": "2020-12-13T18:36:58.966468Z",
     "iopub.status.idle": "2020-12-13T18:37:11.325659Z",
     "shell.execute_reply": "2020-12-13T18:37:11.325101Z"
    },
    "papermill": {
     "duration": 12.404327,
     "end_time": "2020-12-13T18:37:11.325773",
     "exception": false,
     "start_time": "2020-12-13T18:36:58.921446",
     "status": "completed"
    },
    "tags": []
   },
   "outputs": [],
   "source": [
    "import matplotlib.pyplot as plt\n",
    "import numpy as np\n",
    "\n",
    "# pytorch library\n",
    "import torch \n",
    "import torch.nn.functional as F # the sub-library containing different functions for manipulating with tensors\n",
    "from transformers import BertModel, BertTokenizer"
   ]
  },
  {
   "cell_type": "code",
   "execution_count": 3,
   "metadata": {
    "execution": {
     "iopub.execute_input": "2020-12-13T18:37:11.439605Z",
     "iopub.status.busy": "2020-12-13T18:37:11.438669Z",
     "iopub.status.idle": "2020-12-13T18:37:11.442176Z",
     "shell.execute_reply": "2020-12-13T18:37:11.441649Z"
    },
    "papermill": {
     "duration": 0.036636,
     "end_time": "2020-12-13T18:37:11.442284",
     "exception": false,
     "start_time": "2020-12-13T18:37:11.405648",
     "status": "completed"
    },
    "tags": []
   },
   "outputs": [
    {
     "name": "stdout",
     "output_type": "stream",
     "text": [
      "cuda\n"
     ]
    }
   ],
   "source": [
    "# select device\n",
    "device = torch.device(\"cuda\" if torch.cuda.is_available() else \"cpu\")\n",
    "print(device)"
   ]
  },
  {
   "cell_type": "code",
   "execution_count": 4,
   "metadata": {
    "execution": {
     "iopub.execute_input": "2020-12-13T18:37:11.556142Z",
     "iopub.status.busy": "2020-12-13T18:37:11.555198Z",
     "iopub.status.idle": "2020-12-13T18:39:30.615553Z",
     "shell.execute_reply": "2020-12-13T18:39:30.615019Z"
    },
    "papermill": {
     "duration": 139.0936,
     "end_time": "2020-12-13T18:39:30.615669",
     "exception": false,
     "start_time": "2020-12-13T18:37:11.522069",
     "status": "completed"
    },
    "tags": []
   },
   "outputs": [
    {
     "data": {
      "application/vnd.jupyter.widget-view+json": {
       "model_id": "d3b8dcca5848445f964dc0bd3ebf3a30",
       "version_major": 2,
       "version_minor": 0
      },
      "text/plain": [
       "Downloading:   0%|          | 0.00/208k [00:00<?, ?B/s]"
      ]
     },
     "metadata": {},
     "output_type": "display_data"
    },
    {
     "data": {
      "application/vnd.jupyter.widget-view+json": {
       "model_id": "d2a1e168576d4769a2f42e8c7a67984f",
       "version_major": 2,
       "version_minor": 0
      },
      "text/plain": [
       "Downloading:   0%|          | 0.00/29.0 [00:00<?, ?B/s]"
      ]
     },
     "metadata": {},
     "output_type": "display_data"
    },
    {
     "data": {
      "application/vnd.jupyter.widget-view+json": {
       "model_id": "6ce39b3f010c46d1bc8b224b1caca89c",
       "version_major": 2,
       "version_minor": 0
      },
      "text/plain": [
       "Downloading:   0%|          | 0.00/426k [00:00<?, ?B/s]"
      ]
     },
     "metadata": {},
     "output_type": "display_data"
    },
    {
     "data": {
      "application/vnd.jupyter.widget-view+json": {
       "model_id": "82bc8a4f170442b0a9be85679e2599f6",
       "version_major": 2,
       "version_minor": 0
      },
      "text/plain": [
       "Downloading:   0%|          | 0.00/762 [00:00<?, ?B/s]"
      ]
     },
     "metadata": {},
     "output_type": "display_data"
    },
    {
     "data": {
      "application/vnd.jupyter.widget-view+json": {
       "model_id": "1e1b1ffa28e84cca8510202802b38b8a",
       "version_major": 2,
       "version_minor": 0
      },
      "text/plain": [
       "Downloading:   0%|          | 0.00/1.25G [00:00<?, ?B/s]"
      ]
     },
     "metadata": {},
     "output_type": "display_data"
    },
    {
     "name": "stderr",
     "output_type": "stream",
     "text": [
      "Some weights of the model checkpoint at bert-large-cased were not used when initializing BertModel: ['cls.seq_relationship.bias', 'cls.seq_relationship.weight', 'cls.predictions.transform.LayerNorm.weight', 'cls.predictions.decoder.weight', 'cls.predictions.transform.LayerNorm.bias', 'cls.predictions.transform.dense.bias', 'cls.predictions.transform.dense.weight', 'cls.predictions.bias']\n",
      "- This IS expected if you are initializing BertModel from the checkpoint of a model trained on another task or with another architecture (e.g. initializing a BertForSequenceClassification model from a BertForPreTraining model).\n",
      "- This IS NOT expected if you are initializing BertModel from the checkpoint of a model that you expect to be exactly identical (initializing a BertForSequenceClassification model from a BertForSequenceClassification model).\n"
     ]
    }
   ],
   "source": [
    "bert_version = 'bert-large-cased'\n",
    "tokenizer = BertTokenizer.from_pretrained(bert_version)\n",
    "model = BertModel.from_pretrained(bert_version)"
   ]
  },
  {
   "cell_type": "code",
   "execution_count": 5,
   "metadata": {
    "execution": {
     "iopub.execute_input": "2020-12-13T18:39:30.739899Z",
     "iopub.status.busy": "2020-12-13T18:39:30.739251Z",
     "iopub.status.idle": "2020-12-13T18:39:30.741983Z",
     "shell.execute_reply": "2020-12-13T18:39:30.742453Z"
    },
    "papermill": {
     "duration": 0.039308,
     "end_time": "2020-12-13T18:39:30.742590",
     "exception": false,
     "start_time": "2020-12-13T18:39:30.703282",
     "status": "completed"
    },
    "tags": []
   },
   "outputs": [],
   "source": [
    "# model is configured for production.\n",
    "model = model.eval()\n",
    "# model to device(GPU)\n",
    "model = model.to(device)"
   ]
  },
  {
   "cell_type": "code",
   "execution_count": 7,
   "metadata": {
    "execution": {
     "iopub.execute_input": "2020-12-13T18:39:31.068742Z",
     "iopub.status.busy": "2020-12-13T18:39:31.068062Z",
     "iopub.status.idle": "2020-12-13T18:39:31.072871Z",
     "shell.execute_reply": "2020-12-13T18:39:31.072156Z"
    },
    "papermill": {
     "duration": 0.040592,
     "end_time": "2020-12-13T18:39:31.073013",
     "exception": false,
     "start_time": "2020-12-13T18:39:31.032421",
     "status": "completed"
    },
    "tags": []
   },
   "outputs": [],
   "source": [
    "texts  = [\n",
    "    'Obama speaks to the media in Illinois',\n",
    "    'The president greets the press in Chicago',\n",
    "    'Oranges are my favorite fruit',\n",
    "]"
   ]
  },
  {
   "cell_type": "code",
   "execution_count": 8,
   "metadata": {
    "execution": {
     "iopub.execute_input": "2020-12-13T18:39:31.198260Z",
     "iopub.status.busy": "2020-12-13T18:39:31.197501Z",
     "iopub.status.idle": "2020-12-13T18:39:31.201428Z",
     "shell.execute_reply": "2020-12-13T18:39:31.201972Z"
    },
    "papermill": {
     "duration": 0.039836,
     "end_time": "2020-12-13T18:39:31.202110",
     "exception": false,
     "start_time": "2020-12-13T18:39:31.162274",
     "status": "completed"
    },
    "tags": []
   },
   "outputs": [],
   "source": [
    "encodings = tokenizer(\n",
    "    texts, # the texts to be tokenized\n",
    "    padding = True, # pad the texts to the maximum length\n",
    "    return_tensors='pt' # return tensors\n",
    ")"
   ]
  },
  {
   "cell_type": "code",
   "execution_count": 9,
   "metadata": {
    "execution": {
     "iopub.execute_input": "2020-12-13T18:39:31.328219Z",
     "iopub.status.busy": "2020-12-13T18:39:31.327323Z",
     "iopub.status.idle": "2020-12-13T18:39:31.331617Z",
     "shell.execute_reply": "2020-12-13T18:39:31.331090Z"
    },
    "papermill": {
     "duration": 0.039142,
     "end_time": "2020-12-13T18:39:31.331729",
     "exception": false,
     "start_time": "2020-12-13T18:39:31.292587",
     "status": "completed"
    },
    "tags": []
   },
   "outputs": [],
   "source": [
    "encodings = encodings.to(device)"
   ]
  },
  {
   "cell_type": "code",
   "execution_count": 24,
   "metadata": {
    "execution": {
     "iopub.execute_input": "2020-12-13T18:39:31.526049Z",
     "iopub.status.busy": "2020-12-13T18:39:31.525389Z",
     "iopub.status.idle": "2020-12-13T18:39:31.536123Z",
     "shell.execute_reply": "2020-12-13T18:39:31.535488Z"
    },
    "papermill": {
     "duration": 0.047094,
     "end_time": "2020-12-13T18:39:31.536231",
     "exception": false,
     "start_time": "2020-12-13T18:39:31.489137",
     "status": "completed"
    },
    "tags": []
   },
   "outputs": [
    {
     "name": "stdout",
     "output_type": "stream",
     "text": [
      "Encoding keys: input_ids token_type_ids attention_mask\n",
      "tensor([[  101,  7661,  8917,  1106,  1103,  2394,  1107,  3461,   102,     0],\n",
      "        [  101,  1109,  2084, 18884,  1116,  1103,  3181,  1107,  2290,   102],\n",
      "        [  101,  6309,  1116,  1132,  1139,  5095,  5735,   102,     0,     0]],\n",
      "       device='cuda:0')\n",
      "tensor([[1, 1, 1, 1, 1, 1, 1, 1, 1, 0],\n",
      "        [1, 1, 1, 1, 1, 1, 1, 1, 1, 1],\n",
      "        [1, 1, 1, 1, 1, 1, 1, 1, 0, 0]], device='cuda:0')\n",
      "tensor([[0, 0, 0, 0, 0, 0, 0, 0, 0, 0],\n",
      "        [0, 0, 0, 0, 0, 0, 0, 0, 0, 0],\n",
      "        [0, 0, 0, 0, 0, 0, 0, 0, 0, 0]], device='cuda:0')\n"
     ]
    }
   ],
   "source": [
    "print('Encoding keys:', *encodings.keys())\n",
    "# input_ids:\n",
    "# 101 represents the class token [CLS]\n",
    "# 102 represents [SEP]\n",
    "# 0 represents [PAD]\n",
    "print(encodings['input_ids'])\n",
    "# Attention_mask: represents which ids to use when generating the tokens \n",
    "# (e.g. ignores the [PAD] tokens\n",
    "print(encodings['attention_mask'])\n",
    "# token_type_ids: represents which tokens correspond to the first and second sentence \n",
    "# used for next sentence prediction\n",
    "print(encodings['token_type_ids'])"
   ]
  },
  {
   "cell_type": "code",
   "execution_count": 13,
   "metadata": {
    "execution": {
     "iopub.execute_input": "2020-12-13T18:39:31.914985Z",
     "iopub.status.busy": "2020-12-13T18:39:31.914299Z",
     "iopub.status.idle": "2020-12-13T18:39:31.921942Z",
     "shell.execute_reply": "2020-12-13T18:39:31.922410Z"
    },
    "papermill": {
     "duration": 0.061309,
     "end_time": "2020-12-13T18:39:31.922540",
     "exception": false,
     "start_time": "2020-12-13T18:39:31.861231",
     "status": "completed"
    },
    "tags": []
   },
   "outputs": [
    {
     "name": "stdout",
     "output_type": "stream",
     "text": [
      "['[CLS]', 'Obama', 'speaks', 'to', 'the', 'media', 'in', 'Illinois', '[SEP]', '[PAD]']\n",
      "['[CLS]', 'The', 'president', 'greet', '##s', 'the', 'press', 'in', 'Chicago', '[SEP]']\n",
      "['[CLS]', 'Orange', '##s', 'are', 'my', 'favorite', 'fruit', '[SEP]', '[PAD]', '[PAD]']\n"
     ]
    }
   ],
   "source": [
    "# convert the ids into tokens and output their representaitons\n",
    "for tokens in encodings['input_ids']:\n",
    "    print(tokenizer.convert_ids_to_tokens(tokens))"
   ]
  },
  {
   "cell_type": "code",
   "execution_count": 28,
   "metadata": {
    "execution": {
     "iopub.execute_input": "2020-12-13T18:39:32.060118Z",
     "iopub.status.busy": "2020-12-13T18:39:32.059330Z",
     "iopub.status.idle": "2020-12-13T18:39:32.857084Z",
     "shell.execute_reply": "2020-12-13T18:39:32.856451Z"
    },
    "papermill": {
     "duration": 0.83801,
     "end_time": "2020-12-13T18:39:32.857210",
     "exception": false,
     "start_time": "2020-12-13T18:39:32.019200",
     "status": "completed"
    },
    "tags": []
   },
   "outputs": [],
   "source": [
    "# disable gradient calculations\n",
    "with torch.no_grad():\n",
    "    # get the model embeddings\n",
    "    embeds = model(**encodings)"
   ]
  },
  {
   "cell_type": "code",
   "execution_count": 29,
   "metadata": {
    "execution": {
     "iopub.execute_input": "2020-12-13T18:39:33.059413Z",
     "iopub.status.busy": "2020-12-13T18:39:33.058672Z",
     "iopub.status.idle": "2020-12-13T18:39:33.062030Z",
     "shell.execute_reply": "2020-12-13T18:39:33.062499Z"
    },
    "papermill": {
     "duration": 0.058212,
     "end_time": "2020-12-13T18:39:33.062633",
     "exception": false,
     "start_time": "2020-12-13T18:39:33.004421",
     "status": "completed"
    },
    "tags": []
   },
   "outputs": [
    {
     "name": "stdout",
     "output_type": "stream",
     "text": [
      "tensor([[ 0.9926, -0.8740, -0.9317,  ...,  0.9540, -0.9300,  0.6516],\n",
      "        [ 0.9782,  0.8172,  0.9791,  ..., -0.9856, -0.0752,  0.9397],\n",
      "        [ 0.9805,  0.9990,  0.9995,  ..., -1.0000,  0.1070,  0.9760]],\n",
      "       device='cuda:0')\n"
     ]
    }
   ],
   "source": [
    "# embeds[0] contains the embeddings of the sentence tokens\n",
    "# embeds[1] contains the embeddings of the [CLS] token being sent further to train the next sentence prediction.\n",
    "print(embeds[1])\n",
    "embeds = embeds[0]"
   ]
  },
  {
   "cell_type": "code",
   "execution_count": 30,
   "metadata": {
    "execution": {
     "iopub.execute_input": "2020-12-13T18:39:33.246184Z",
     "iopub.status.busy": "2020-12-13T18:39:33.245098Z",
     "iopub.status.idle": "2020-12-13T18:39:33.249790Z",
     "shell.execute_reply": "2020-12-13T18:39:33.249178Z"
    },
    "papermill": {
     "duration": 0.044431,
     "end_time": "2020-12-13T18:39:33.249922",
     "exception": false,
     "start_time": "2020-12-13T18:39:33.205491",
     "status": "completed"
    },
    "tags": []
   },
   "outputs": [
    {
     "data": {
      "text/plain": [
       "torch.Size([3, 10, 1024])"
      ]
     },
     "execution_count": 30,
     "metadata": {},
     "output_type": "execute_result"
    }
   ],
   "source": [
    "# to get the size of the tensor use .shape (similar as with numpy)\n",
    "embeds.shape"
   ]
  },
  {
   "cell_type": "code",
   "execution_count": 31,
   "metadata": {
    "execution": {
     "iopub.execute_input": "2020-12-13T18:39:33.399022Z",
     "iopub.status.busy": "2020-12-13T18:39:33.398270Z",
     "iopub.status.idle": "2020-12-13T18:39:33.403255Z",
     "shell.execute_reply": "2020-12-13T18:39:33.402636Z"
    },
    "papermill": {
     "duration": 0.052202,
     "end_time": "2020-12-13T18:39:33.403372",
     "exception": false,
     "start_time": "2020-12-13T18:39:33.351170",
     "status": "completed"
    },
    "tags": []
   },
   "outputs": [],
   "source": [
    "def visualize(distances, figsize=(10, 5), titles=None):\n",
    "    # get the number of columns\n",
    "    ncols = len(distances)\n",
    "    # create the subplot placeholders\n",
    "    fig, ax = plt.subplots(ncols=ncols, figsize=figsize)\n",
    "    \n",
    "    for i in range(ncols):\n",
    "        \n",
    "        # get the axis in which we will draw the matrix\n",
    "        axes = ax[i] if ncols > 1 else ax\n",
    "        \n",
    "        # get the i-th distance\n",
    "        distance = distances[i]\n",
    "        \n",
    "        # create the heatmap\n",
    "        axes.imshow(distance)\n",
    "        \n",
    "        # show the ticks\n",
    "        axes.set_xticks(np.arange(distance.shape[0]))\n",
    "        axes.set_yticks(np.arange(distance.shape[1]))\n",
    "        \n",
    "        # set the tick labels\n",
    "        axes.set_xticklabels(np.arange(distance.shape[0]))\n",
    "        axes.set_yticklabels(np.arange(distance.shape[1]))\n",
    "        \n",
    "        # set the values in the heatmap\n",
    "        for j in range(distance.shape[0]):\n",
    "            for k in range(distance.shape[1]):\n",
    "                text = axes.text(k, j, str(round(distance[j, k], 3)),\n",
    "                               ha=\"center\", va=\"center\", color=\"w\")\n",
    "        \n",
    "        # set the title of the subplot\n",
    "        title = titles[i] if titles and len(titles) > i else \"Text Distance\"\n",
    "        axes.set_title(title, fontsize=\"x-large\")\n",
    "        \n",
    "    fig.tight_layout()\n",
    "    plt.show()"
   ]
  },
  {
   "cell_type": "code",
   "execution_count": 35,
   "metadata": {
    "execution": {
     "iopub.execute_input": "2020-12-13T18:39:33.545523Z",
     "iopub.status.busy": "2020-12-13T18:39:33.544731Z",
     "iopub.status.idle": "2020-12-13T18:39:33.548932Z",
     "shell.execute_reply": "2020-12-13T18:39:33.549443Z"
    },
    "papermill": {
     "duration": 0.04411,
     "end_time": "2020-12-13T18:39:33.549595",
     "exception": false,
     "start_time": "2020-12-13T18:39:33.505485",
     "status": "completed"
    },
    "tags": []
   },
   "outputs": [
    {
     "name": "stdout",
     "output_type": "stream",
     "text": [
      "tensor([[ 0.0674, -0.6799, -0.0995,  ..., -0.7554, -0.1278, -0.0802],\n",
      "        [-0.0607, -0.6513,  0.0976,  ..., -0.5838, -0.2506, -0.0793],\n",
      "        [-0.5826, -0.4716,  0.3686,  ..., -0.3705, -0.7758, -0.1986]],\n",
      "       device='cuda:0')\n"
     ]
    }
   ],
   "source": [
    "# Use the [CLS] Embeddings\n",
    "# 0 : [CLS] for each sentence\n",
    "CLSs = embeds[:, 0, :]\n",
    "print(CLSs)"
   ]
  },
  {
   "cell_type": "code",
   "execution_count": 37,
   "metadata": {
    "execution": {
     "iopub.execute_input": "2020-12-13T18:39:33.626997Z",
     "iopub.status.busy": "2020-12-13T18:39:33.626353Z",
     "iopub.status.idle": "2020-12-13T18:39:33.638108Z",
     "shell.execute_reply": "2020-12-13T18:39:33.637485Z"
    },
    "papermill": {
     "duration": 0.053889,
     "end_time": "2020-12-13T18:39:33.638221",
     "exception": false,
     "start_time": "2020-12-13T18:39:33.584332",
     "status": "completed"
    },
    "tags": []
   },
   "outputs": [],
   "source": [
    "# normalize the CLS token embeddings\n",
    "normalized = F.normalize(CLSs, p=2, dim=1)\n",
    "# calculate the cosine similarity\n",
    "cls_dist = normalized.matmul(normalized.T)\n",
    "cls_dist = cls_dist.new_ones(cls_dist.shape) - cls_dist\n",
    "cls_dist = cls_dist.cpu().numpy()"
   ]
  },
  {
   "cell_type": "code",
   "execution_count": 38,
   "metadata": {
    "execution": {
     "iopub.execute_input": "2020-12-13T18:39:33.716517Z",
     "iopub.status.busy": "2020-12-13T18:39:33.715833Z",
     "iopub.status.idle": "2020-12-13T18:39:33.892227Z",
     "shell.execute_reply": "2020-12-13T18:39:33.891530Z"
    },
    "papermill": {
     "duration": 0.219091,
     "end_time": "2020-12-13T18:39:33.892332",
     "exception": false,
     "start_time": "2020-12-13T18:39:33.673241",
     "status": "completed"
    },
    "tags": []
   },
   "outputs": [
    {
     "data": {
      "image/png": "[encoded data removed]",
      "text/plain": [
       "<Figure size 720x360 with 1 Axes>"
      ]
     },
     "metadata": {
      "needs_background": "light"
     },
     "output_type": "display_data"
    }
   ],
   "source": [
    "visualize([cls_dist], titles=[\"CLS\"])"
   ]
  },
  {
   "cell_type": "code",
   "execution_count": 42,
   "metadata": {
    "execution": {
     "iopub.execute_input": "2020-12-13T18:39:34.118836Z",
     "iopub.status.busy": "2020-12-13T18:39:34.117798Z",
     "iopub.status.idle": "2020-12-13T18:39:34.122633Z",
     "shell.execute_reply": "2020-12-13T18:39:34.121683Z"
    },
    "papermill": {
     "duration": 0.046304,
     "end_time": "2020-12-13T18:39:34.122777",
     "exception": false,
     "start_time": "2020-12-13T18:39:34.076473",
     "status": "completed"
    },
    "tags": []
   },
   "outputs": [],
   "source": [
    "MEANS = embeds.mean(dim = 1)\n",
    "# normalize the MEANS token embeddings\n",
    "normalized = F.normalize(MEANS, p = 2, dim=1)\n",
    "# calculate the cosine similarity\n",
    "mean_dist = normalized.matmul(normalized.T)\n",
    "mean_dist = mean_dist.new_ones(mean_dist.shape) - mean_dist\n",
    "mean_dist = mean_dist.cpu().numpy()"
   ]
  },
  {
   "cell_type": "code",
   "execution_count": 43,
   "metadata": {
    "execution": {
     "iopub.execute_input": "2020-12-13T18:39:34.245719Z",
     "iopub.status.busy": "2020-12-13T18:39:34.241968Z",
     "iopub.status.idle": "2020-12-13T18:39:34.374277Z",
     "shell.execute_reply": "2020-12-13T18:39:34.373591Z"
    },
    "papermill": {
     "duration": 0.19513,
     "end_time": "2020-12-13T18:39:34.374388",
     "exception": false,
     "start_time": "2020-12-13T18:39:34.179258",
     "status": "completed"
    },
    "tags": []
   },
   "outputs": [
    {
     "data": {
      "image/png": "[encoded data removed]",
      "text/plain": [
       "<Figure size 720x360 with 1 Axes>"
      ]
     },
     "metadata": {
      "needs_background": "light"
     },
     "output_type": "display_data"
    }
   ],
   "source": [
    "visualize([mean_dist], titles=[\"MEAN\"])"
   ]
  },
  {
   "cell_type": "code",
   "execution_count": 46,
   "metadata": {
    "execution": {
     "iopub.execute_input": "2020-12-13T18:39:34.528182Z",
     "iopub.status.busy": "2020-12-13T18:39:34.527254Z",
     "iopub.status.idle": "2020-12-13T18:39:34.531544Z",
     "shell.execute_reply": "2020-12-13T18:39:34.530819Z"
    },
    "papermill": {
     "duration": 0.046157,
     "end_time": "2020-12-13T18:39:34.531688",
     "exception": false,
     "start_time": "2020-12-13T18:39:34.485531",
     "status": "completed"
    },
    "tags": []
   },
   "outputs": [],
   "source": [
    "#Compute the max-over-time of the Output Vectors\n",
    "MAXS, _ = embeds.max(dim=1)\n",
    "# normalize the MEANS token embeddings\n",
    "normalized = F.normalize(MAXS, p=2, dim=1)\n",
    "# calculate the cosine similarity\n",
    "max_dist = normalized.matmul(normalized.T)\n",
    "max_dist = max_dist.new_ones(max_dist.shape) - max_dist\n",
    "max_dist = max_dist.cpu().numpy()"
   ]
  },
  {
   "cell_type": "code",
   "execution_count": 47,
   "metadata": {
    "execution": {
     "iopub.execute_input": "2020-12-13T18:39:34.744321Z",
     "iopub.status.busy": "2020-12-13T18:39:34.736715Z",
     "iopub.status.idle": "2020-12-13T18:39:34.844149Z",
     "shell.execute_reply": "2020-12-13T18:39:34.843576Z"
    },
    "papermill": {
     "duration": 0.154168,
     "end_time": "2020-12-13T18:39:34.844257",
     "exception": false,
     "start_time": "2020-12-13T18:39:34.690089",
     "status": "completed"
    },
    "tags": []
   },
   "outputs": [
    {
     "data": {
      "image/png": "[encoded data removed]",
      "text/plain": [
       "<Figure size 720x360 with 1 Axes>"
      ]
     },
     "metadata": {
      "needs_background": "light"
     },
     "output_type": "display_data"
    }
   ],
   "source": [
    "visualize([max_dist], titles=[\"MAX\"])"
   ]
  },
  {
   "cell_type": "code",
   "execution_count": 48,
   "metadata": {
    "execution": {
     "iopub.execute_input": "2020-12-13T18:39:35.006119Z",
     "iopub.status.busy": "2020-12-13T18:39:35.000455Z",
     "iopub.status.idle": "2020-12-13T18:39:35.268773Z",
     "shell.execute_reply": "2020-12-13T18:39:35.268279Z"
    },
    "papermill": {
     "duration": 0.312237,
     "end_time": "2020-12-13T18:39:35.268910",
     "exception": false,
     "start_time": "2020-12-13T18:39:34.956673",
     "status": "completed"
    },
    "tags": []
   },
   "outputs": [
    {
     "data": {
      "image/png": "[encoded data removed]",
      "text/plain": [
       "<Figure size 720x360 with 3 Axes>"
      ]
     },
     "metadata": {
      "needs_background": "light"
     },
     "output_type": "display_data"
    }
   ],
   "source": [
    "dist = [cls_dist, mean_dist, max_dist]\n",
    "titles = [\"CLS\", \"MEAN\", \"MAX\"]\n",
    "visualize(dist, titles=titles)"
   ]
  },
  {
   "cell_type": "code",
   "execution_count": null,
   "metadata": {},
   "outputs": [],
   "source": []
  }
 ],
 "metadata": {
  "kernelspec": {
   "display_name": "Python 3.7.11 64-bit ('py36': conda)",
   "language": "python",
   "name": "python3711jvsc74a57bd082f90a6d6086172460f4c9c1e1a219fdde808fd64cbe4fc0c473da247502f162"
  },
  "language_info": {
   "codemirror_mode": {
    "name": "ipython",
    "version": 3
   },
   "file_extension": ".py",
   "mimetype": "text/x-python",
   "name": "python",
   "nbconvert_exporter": "python",
   "pygments_lexer": "ipython3",
   "version": "3.7.11"
  },
  "papermill": {
   "duration": 161.909426,
   "end_time": "2020-12-13T18:39:35.516044",
   "environment_variables": {},
   "exception": null,
   "input_path": "__notebook__.ipynb",
   "output_path": "__notebook__.ipynb",
   "parameters": {},
   "start_time": "2020-12-13T18:36:53.606618",
   "version": "2.1.0"
  },
  "widgets": {
   "application/vnd.jupyter.widget-state+json": {
    "state": {
     "0215705fd51c408cabb9a038284103d4": {
      "model_module": "@jupyter-widgets/controls",
      "model_module_version": "1.5.0",
      "model_name": "ProgressStyleModel",
      "state": {
       "_model_module": "@jupyter-widgets/controls",
       "_model_module_version": "1.5.0",
       "_model_name": "ProgressStyleModel",
       "_view_count": null,
       "_view_module": "@jupyter-widgets/base",
       "_view_module_version": "1.2.0",
       "_view_name": "StyleView",
       "bar_color": null,
       "description_width": "initial"
      }
     },
     "051c02ebde1e48928347458c020220b0": {
      "model_module": "@jupyter-widgets/controls",
      "model_module_version": "1.5.0",
      "model_name": "FloatProgressModel",
      "state": {
       "_dom_classes": [],
       "_model_module": "@jupyter-widgets/controls",
       "_model_module_version": "1.5.0",
       "_model_name": "FloatProgressModel",
       "_view_count": null,
       "_view_module": "@jupyter-widgets/controls",
       "_view_module_version": "1.5.0",
       "_view_name": "ProgressView",
       "bar_style": "success",
       "description": "Downloading: 100%",
       "description_tooltip": null,
       "layout": "IPY_MODEL_27d03d5f1a96478cb5dcf2e784bde75e",
       "max": 625,
       "min": 0,
       "orientation": "horizontal",
       "style": "IPY_MODEL_0215705fd51c408cabb9a038284103d4",
       "value": 625
      }
     },
     "0a537e953fce4ef0a42f5abbfa2cede0": {
      "model_module": "@jupyter-widgets/base",
      "model_module_version": "1.2.0",
      "model_name": "LayoutModel",
      "state": {
       "_model_module": "@jupyter-widgets/base",
       "_model_module_version": "1.2.0",
       "_model_name": "LayoutModel",
       "_view_count": null,
       "_view_module": "@jupyter-widgets/base",
       "_view_module_version": "1.2.0",
       "_view_name": "LayoutView",
       "align_content": null,
       "align_items": null,
       "align_self": null,
       "border": null,
       "bottom": null,
       "display": null,
       "flex": null,
       "flex_flow": null,
       "grid_area": null,
       "grid_auto_columns": null,
       "grid_auto_flow": null,
       "grid_auto_rows": null,
       "grid_column": null,
       "grid_gap": null,
       "grid_row": null,
       "grid_template_areas": null,
       "grid_template_columns": null,
       "grid_template_rows": null,
       "height": null,
       "justify_content": null,
       "justify_items": null,
       "left": null,
       "margin": null,
       "max_height": null,
       "max_width": null,
       "min_height": null,
       "min_width": null,
       "object_fit": null,
       "object_position": null,
       "order": null,
       "overflow": null,
       "overflow_x": null,
       "overflow_y": null,
       "padding": null,
       "right": null,
       "top": null,
       "visibility": null,
       "width": null
      }
     },
     "10dd777a9cc640ea85ee82fd6ff0c76b": {
      "model_module": "@jupyter-widgets/base",
      "model_module_version": "1.2.0",
      "model_name": "LayoutModel",
      "state": {
       "_model_module": "@jupyter-widgets/base",
       "_model_module_version": "1.2.0",
       "_model_name": "LayoutModel",
       "_view_count": null,
       "_view_module": "@jupyter-widgets/base",
       "_view_module_version": "1.2.0",
       "_view_name": "LayoutView",
       "align_content": null,
       "align_items": null,
       "align_self": null,
       "border": null,
       "bottom": null,
       "display": null,
       "flex": null,
       "flex_flow": null,
       "grid_area": null,
       "grid_auto_columns": null,
       "grid_auto_flow": null,
       "grid_auto_rows": null,
       "grid_column": null,
       "grid_gap": null,
       "grid_row": null,
       "grid_template_areas": null,
       "grid_template_columns": null,
       "grid_template_rows": null,
       "height": null,
       "justify_content": null,
       "justify_items": null,
       "left": null,
       "margin": null,
       "max_height": null,
       "max_width": null,
       "min_height": null,
       "min_width": null,
       "object_fit": null,
       "object_position": null,
       "order": null,
       "overflow": null,
       "overflow_x": null,
       "overflow_y": null,
       "padding": null,
       "right": null,
       "top": null,
       "visibility": null,
       "width": null
      }
     },
     "140d36bb176443ab80273c9f4e16a180": {
      "model_module": "@jupyter-widgets/controls",
      "model_module_version": "1.5.0",
      "model_name": "HTMLModel",
      "state": {
       "_dom_classes": [],
       "_model_module": "@jupyter-widgets/controls",
       "_model_module_version": "1.5.0",
       "_model_name": "HTMLModel",
       "_view_count": null,
       "_view_module": "@jupyter-widgets/controls",
       "_view_module_version": "1.5.0",
       "_view_name": "HTMLView",
       "description": "",
       "description_tooltip": null,
       "layout": "IPY_MODEL_d174c60e6f414116a5e616318b35fb15",
       "placeholder": "​",
       "style": "IPY_MODEL_a73fccbd20bf4755921708b89d334910",
       "value": " 213k/213k [00:00&lt;00:00, 561kB/s]"
      }
     },
     "1bd00f02d92c481f8caea95b3606c155": {
      "model_module": "@jupyter-widgets/controls",
      "model_module_version": "1.5.0",
      "model_name": "HBoxModel",
      "state": {
       "_dom_classes": [],
       "_model_module": "@jupyter-widgets/controls",
       "_model_module_version": "1.5.0",
       "_model_name": "HBoxModel",
       "_view_count": null,
       "_view_module": "@jupyter-widgets/controls",
       "_view_module_version": "1.5.0",
       "_view_name": "HBoxView",
       "box_style": "",
       "children": [
        "IPY_MODEL_051c02ebde1e48928347458c020220b0",
        "IPY_MODEL_cf42983a2ed4440badcd597f0b867099"
       ],
       "layout": "IPY_MODEL_10dd777a9cc640ea85ee82fd6ff0c76b"
      }
     },
     "24cb54a8e80946e8a04aad6aec26f51b": {
      "model_module": "@jupyter-widgets/controls",
      "model_module_version": "1.5.0",
      "model_name": "ProgressStyleModel",
      "state": {
       "_model_module": "@jupyter-widgets/controls",
       "_model_module_version": "1.5.0",
       "_model_name": "ProgressStyleModel",
       "_view_count": null,
       "_view_module": "@jupyter-widgets/base",
       "_view_module_version": "1.2.0",
       "_view_name": "StyleView",
       "bar_color": null,
       "description_width": "initial"
      }
     },
     "27d03d5f1a96478cb5dcf2e784bde75e": {
      "model_module": "@jupyter-widgets/base",
      "model_module_version": "1.2.0",
      "model_name": "LayoutModel",
      "state": {
       "_model_module": "@jupyter-widgets/base",
       "_model_module_version": "1.2.0",
       "_model_name": "LayoutModel",
       "_view_count": null,
       "_view_module": "@jupyter-widgets/base",
       "_view_module_version": "1.2.0",
       "_view_name": "LayoutView",
       "align_content": null,
       "align_items": null,
       "align_self": null,
       "border": null,
       "bottom": null,
       "display": null,
       "flex": null,
       "flex_flow": null,
       "grid_area": null,
       "grid_auto_columns": null,
       "grid_auto_flow": null,
       "grid_auto_rows": null,
       "grid_column": null,
       "grid_gap": null,
       "grid_row": null,
       "grid_template_areas": null,
       "grid_template_columns": null,
       "grid_template_rows": null,
       "height": null,
       "justify_content": null,
       "justify_items": null,
       "left": null,
       "margin": null,
       "max_height": null,
       "max_width": null,
       "min_height": null,
       "min_width": null,
       "object_fit": null,
       "object_position": null,
       "order": null,
       "overflow": null,
       "overflow_x": null,
       "overflow_y": null,
       "padding": null,
       "right": null,
       "top": null,
       "visibility": null,
       "width": null
      }
     },
     "3706ed713a1e4e1d95150606cbec5864": {
      "model_module": "@jupyter-widgets/controls",
      "model_module_version": "1.5.0",
      "model_name": "HBoxModel",
      "state": {
       "_dom_classes": [],
       "_model_module": "@jupyter-widgets/controls",
       "_model_module_version": "1.5.0",
       "_model_name": "HBoxModel",
       "_view_count": null,
       "_view_module": "@jupyter-widgets/controls",
       "_view_module_version": "1.5.0",
       "_view_name": "HBoxView",
       "box_style": "",
       "children": [
        "IPY_MODEL_498f3c4cfb354cec84c3833f2abd50c3",
        "IPY_MODEL_140d36bb176443ab80273c9f4e16a180"
       ],
       "layout": "IPY_MODEL_a66cde24ec9640a1a25a30acba69a1bc"
      }
     },
     "42c0a4d0c590454fa0f9e0de92719a17": {
      "model_module": "@jupyter-widgets/controls",
      "model_module_version": "1.5.0",
      "model_name": "DescriptionStyleModel",
      "state": {
       "_model_module": "@jupyter-widgets/controls",
       "_model_module_version": "1.5.0",
       "_model_name": "DescriptionStyleModel",
       "_view_count": null,
       "_view_module": "@jupyter-widgets/base",
       "_view_module_version": "1.2.0",
       "_view_name": "StyleView",
       "description_width": ""
      }
     },
     "474d99b4b5654f69b0f90f6fc754bcc1": {
      "model_module": "@jupyter-widgets/controls",
      "model_module_version": "1.5.0",
      "model_name": "DescriptionStyleModel",
      "state": {
       "_model_module": "@jupyter-widgets/controls",
       "_model_module_version": "1.5.0",
       "_model_name": "DescriptionStyleModel",
       "_view_count": null,
       "_view_module": "@jupyter-widgets/base",
       "_view_module_version": "1.2.0",
       "_view_name": "StyleView",
       "description_width": ""
      }
     },
     "48efa1ed2b6845618269f8dd0b92b0ea": {
      "model_module": "@jupyter-widgets/base",
      "model_module_version": "1.2.0",
      "model_name": "LayoutModel",
      "state": {
       "_model_module": "@jupyter-widgets/base",
       "_model_module_version": "1.2.0",
       "_model_name": "LayoutModel",
       "_view_count": null,
       "_view_module": "@jupyter-widgets/base",
       "_view_module_version": "1.2.0",
       "_view_name": "LayoutView",
       "align_content": null,
       "align_items": null,
       "align_self": null,
       "border": null,
       "bottom": null,
       "display": null,
       "flex": null,
       "flex_flow": null,
       "grid_area": null,
       "grid_auto_columns": null,
       "grid_auto_flow": null,
       "grid_auto_rows": null,
       "grid_column": null,
       "grid_gap": null,
       "grid_row": null,
       "grid_template_areas": null,
       "grid_template_columns": null,
       "grid_template_rows": null,
       "height": null,
       "justify_content": null,
       "justify_items": null,
       "left": null,
       "margin": null,
       "max_height": null,
       "max_width": null,
       "min_height": null,
       "min_width": null,
       "object_fit": null,
       "object_position": null,
       "order": null,
       "overflow": null,
       "overflow_x": null,
       "overflow_y": null,
       "padding": null,
       "right": null,
       "top": null,
       "visibility": null,
       "width": null
      }
     },
     "498f3c4cfb354cec84c3833f2abd50c3": {
      "model_module": "@jupyter-widgets/controls",
      "model_module_version": "1.5.0",
      "model_name": "FloatProgressModel",
      "state": {
       "_dom_classes": [],
       "_model_module": "@jupyter-widgets/controls",
       "_model_module_version": "1.5.0",
       "_model_name": "FloatProgressModel",
       "_view_count": null,
       "_view_module": "@jupyter-widgets/controls",
       "_view_module_version": "1.5.0",
       "_view_name": "ProgressView",
       "bar_style": "success",
       "description": "Downloading: 100%",
       "description_tooltip": null,
       "layout": "IPY_MODEL_0a537e953fce4ef0a42f5abbfa2cede0",
       "max": 213450,
       "min": 0,
       "orientation": "horizontal",
       "style": "IPY_MODEL_24cb54a8e80946e8a04aad6aec26f51b",
       "value": 213450
      }
     },
     "656383db01af4f5195e9b36b9ae97974": {
      "model_module": "@jupyter-widgets/controls",
      "model_module_version": "1.5.0",
      "model_name": "HTMLModel",
      "state": {
       "_dom_classes": [],
       "_model_module": "@jupyter-widgets/controls",
       "_model_module_version": "1.5.0",
       "_model_name": "HTMLModel",
       "_view_count": null,
       "_view_module": "@jupyter-widgets/controls",
       "_view_module_version": "1.5.0",
       "_view_name": "HTMLView",
       "description": "",
       "description_tooltip": null,
       "layout": "IPY_MODEL_beb9630e8fda4b92baea5b2dd391069b",
       "placeholder": "​",
       "style": "IPY_MODEL_42c0a4d0c590454fa0f9e0de92719a17",
       "value": " 1.34G/1.34G [01:57&lt;00:00, 11.4MB/s]"
      }
     },
     "a66cde24ec9640a1a25a30acba69a1bc": {
      "model_module": "@jupyter-widgets/base",
      "model_module_version": "1.2.0",
      "model_name": "LayoutModel",
      "state": {
       "_model_module": "@jupyter-widgets/base",
       "_model_module_version": "1.2.0",
       "_model_name": "LayoutModel",
       "_view_count": null,
       "_view_module": "@jupyter-widgets/base",
       "_view_module_version": "1.2.0",
       "_view_name": "LayoutView",
       "align_content": null,
       "align_items": null,
       "align_self": null,
       "border": null,
       "bottom": null,
       "display": null,
       "flex": null,
       "flex_flow": null,
       "grid_area": null,
       "grid_auto_columns": null,
       "grid_auto_flow": null,
       "grid_auto_rows": null,
       "grid_column": null,
       "grid_gap": null,
       "grid_row": null,
       "grid_template_areas": null,
       "grid_template_columns": null,
       "grid_template_rows": null,
       "height": null,
       "justify_content": null,
       "justify_items": null,
       "left": null,
       "margin": null,
       "max_height": null,
       "max_width": null,
       "min_height": null,
       "min_width": null,
       "object_fit": null,
       "object_position": null,
       "order": null,
       "overflow": null,
       "overflow_x": null,
       "overflow_y": null,
       "padding": null,
       "right": null,
       "top": null,
       "visibility": null,
       "width": null
      }
     },
     "a73fccbd20bf4755921708b89d334910": {
      "model_module": "@jupyter-widgets/controls",
      "model_module_version": "1.5.0",
      "model_name": "DescriptionStyleModel",
      "state": {
       "_model_module": "@jupyter-widgets/controls",
       "_model_module_version": "1.5.0",
       "_model_name": "DescriptionStyleModel",
       "_view_count": null,
       "_view_module": "@jupyter-widgets/base",
       "_view_module_version": "1.2.0",
       "_view_name": "StyleView",
       "description_width": ""
      }
     },
     "a95f1b0c0ed9426db78ddf96d6752234": {
      "model_module": "@jupyter-widgets/controls",
      "model_module_version": "1.5.0",
      "model_name": "HBoxModel",
      "state": {
       "_dom_classes": [],
       "_model_module": "@jupyter-widgets/controls",
       "_model_module_version": "1.5.0",
       "_model_name": "HBoxModel",
       "_view_count": null,
       "_view_module": "@jupyter-widgets/controls",
       "_view_module_version": "1.5.0",
       "_view_name": "HBoxView",
       "box_style": "",
       "children": [
        "IPY_MODEL_e6e6bee084254d36a0628e3b51394a92",
        "IPY_MODEL_656383db01af4f5195e9b36b9ae97974"
       ],
       "layout": "IPY_MODEL_48efa1ed2b6845618269f8dd0b92b0ea"
      }
     },
     "beb9630e8fda4b92baea5b2dd391069b": {
      "model_module": "@jupyter-widgets/base",
      "model_module_version": "1.2.0",
      "model_name": "LayoutModel",
      "state": {
       "_model_module": "@jupyter-widgets/base",
       "_model_module_version": "1.2.0",
       "_model_name": "LayoutModel",
       "_view_count": null,
       "_view_module": "@jupyter-widgets/base",
       "_view_module_version": "1.2.0",
       "_view_name": "LayoutView",
       "align_content": null,
       "align_items": null,
       "align_self": null,
       "border": null,
       "bottom": null,
       "display": null,
       "flex": null,
       "flex_flow": null,
       "grid_area": null,
       "grid_auto_columns": null,
       "grid_auto_flow": null,
       "grid_auto_rows": null,
       "grid_column": null,
       "grid_gap": null,
       "grid_row": null,
       "grid_template_areas": null,
       "grid_template_columns": null,
       "grid_template_rows": null,
       "height": null,
       "justify_content": null,
       "justify_items": null,
       "left": null,
       "margin": null,
       "max_height": null,
       "max_width": null,
       "min_height": null,
       "min_width": null,
       "object_fit": null,
       "object_position": null,
       "order": null,
       "overflow": null,
       "overflow_x": null,
       "overflow_y": null,
       "padding": null,
       "right": null,
       "top": null,
       "visibility": null,
       "width": null
      }
     },
     "cb5b3f7187d843f3896be0029e58440b": {
      "model_module": "@jupyter-widgets/base",
      "model_module_version": "1.2.0",
      "model_name": "LayoutModel",
      "state": {
       "_model_module": "@jupyter-widgets/base",
       "_model_module_version": "1.2.0",
       "_model_name": "LayoutModel",
       "_view_count": null,
       "_view_module": "@jupyter-widgets/base",
       "_view_module_version": "1.2.0",
       "_view_name": "LayoutView",
       "align_content": null,
       "align_items": null,
       "align_self": null,
       "border": null,
       "bottom": null,
       "display": null,
       "flex": null,
       "flex_flow": null,
       "grid_area": null,
       "grid_auto_columns": null,
       "grid_auto_flow": null,
       "grid_auto_rows": null,
       "grid_column": null,
       "grid_gap": null,
       "grid_row": null,
       "grid_template_areas": null,
       "grid_template_columns": null,
       "grid_template_rows": null,
       "height": null,
       "justify_content": null,
       "justify_items": null,
       "left": null,
       "margin": null,
       "max_height": null,
       "max_width": null,
       "min_height": null,
       "min_width": null,
       "object_fit": null,
       "object_position": null,
       "order": null,
       "overflow": null,
       "overflow_x": null,
       "overflow_y": null,
       "padding": null,
       "right": null,
       "top": null,
       "visibility": null,
       "width": null
      }
     },
     "cf42983a2ed4440badcd597f0b867099": {
      "model_module": "@jupyter-widgets/controls",
      "model_module_version": "1.5.0",
      "model_name": "HTMLModel",
      "state": {
       "_dom_classes": [],
       "_model_module": "@jupyter-widgets/controls",
       "_model_module_version": "1.5.0",
       "_model_name": "HTMLModel",
       "_view_count": null,
       "_view_module": "@jupyter-widgets/controls",
       "_view_module_version": "1.5.0",
       "_view_name": "HTMLView",
       "description": "",
       "description_tooltip": null,
       "layout": "IPY_MODEL_cb5b3f7187d843f3896be0029e58440b",
       "placeholder": "​",
       "style": "IPY_MODEL_474d99b4b5654f69b0f90f6fc754bcc1",
       "value": " 625/625 [00:01&lt;00:00, 538B/s]"
      }
     },
     "d174c60e6f414116a5e616318b35fb15": {
      "model_module": "@jupyter-widgets/base",
      "model_module_version": "1.2.0",
      "model_name": "LayoutModel",
      "state": {
       "_model_module": "@jupyter-widgets/base",
       "_model_module_version": "1.2.0",
       "_model_name": "LayoutModel",
       "_view_count": null,
       "_view_module": "@jupyter-widgets/base",
       "_view_module_version": "1.2.0",
       "_view_name": "LayoutView",
       "align_content": null,
       "align_items": null,
       "align_self": null,
       "border": null,
       "bottom": null,
       "display": null,
       "flex": null,
       "flex_flow": null,
       "grid_area": null,
       "grid_auto_columns": null,
       "grid_auto_flow": null,
       "grid_auto_rows": null,
       "grid_column": null,
       "grid_gap": null,
       "grid_row": null,
       "grid_template_areas": null,
       "grid_template_columns": null,
       "grid_template_rows": null,
       "height": null,
       "justify_content": null,
       "justify_items": null,
       "left": null,
       "margin": null,
       "max_height": null,
       "max_width": null,
       "min_height": null,
       "min_width": null,
       "object_fit": null,
       "object_position": null,
       "order": null,
       "overflow": null,
       "overflow_x": null,
       "overflow_y": null,
       "padding": null,
       "right": null,
       "top": null,
       "visibility": null,
       "width": null
      }
     },
     "e6e6bee084254d36a0628e3b51394a92": {
      "model_module": "@jupyter-widgets/controls",
      "model_module_version": "1.5.0",
      "model_name": "FloatProgressModel",
      "state": {
       "_dom_classes": [],
       "_model_module": "@jupyter-widgets/controls",
       "_model_module_version": "1.5.0",
       "_model_name": "FloatProgressModel",
       "_view_count": null,
       "_view_module": "@jupyter-widgets/controls",
       "_view_module_version": "1.5.0",
       "_view_name": "ProgressView",
       "bar_style": "success",
       "description": "Downloading: 100%",
       "description_tooltip": null,
       "layout": "IPY_MODEL_f8d548c7e3f046c3a5e83493e02bac0a",
       "max": 1338740706,
       "min": 0,
       "orientation": "horizontal",
       "style": "IPY_MODEL_fb6ae40c463b426aa46cf3e6bc35a426",
       "value": 1338740706
      }
     },
     "f8d548c7e3f046c3a5e83493e02bac0a": {
      "model_module": "@jupyter-widgets/base",
      "model_module_version": "1.2.0",
      "model_name": "LayoutModel",
      "state": {
       "_model_module": "@jupyter-widgets/base",
       "_model_module_version": "1.2.0",
       "_model_name": "LayoutModel",
       "_view_count": null,
       "_view_module": "@jupyter-widgets/base",
       "_view_module_version": "1.2.0",
       "_view_name": "LayoutView",
       "align_content": null,
       "align_items": null,
       "align_self": null,
       "border": null,
       "bottom": null,
       "display": null,
       "flex": null,
       "flex_flow": null,
       "grid_area": null,
       "grid_auto_columns": null,
       "grid_auto_flow": null,
       "grid_auto_rows": null,
       "grid_column": null,
       "grid_gap": null,
       "grid_row": null,
       "grid_template_areas": null,
       "grid_template_columns": null,
       "grid_template_rows": null,
       "height": null,
       "justify_content": null,
       "justify_items": null,
       "left": null,
       "margin": null,
       "max_height": null,
       "max_width": null,
       "min_height": null,
       "min_width": null,
       "object_fit": null,
       "object_position": null,
       "order": null,
       "overflow": null,
       "overflow_x": null,
       "overflow_y": null,
       "padding": null,
       "right": null,
       "top": null,
       "visibility": null,
       "width": null
      }
     },
     "fb6ae40c463b426aa46cf3e6bc35a426": {
      "model_module": "@jupyter-widgets/controls",
      "model_module_version": "1.5.0",
      "model_name": "ProgressStyleModel",
      "state": {
       "_model_module": "@jupyter-widgets/controls",
       "_model_module_version": "1.5.0",
       "_model_name": "ProgressStyleModel",
       "_view_count": null,
       "_view_module": "@jupyter-widgets/base",
       "_view_module_version": "1.2.0",
       "_view_name": "StyleView",
       "bar_color": null,
       "description_width": "initial"
      }
     }
    },
    "version_major": 2,
    "version_minor": 0
   }
  }
 },
 "nbformat": 4,
 "nbformat_minor": 4
}
